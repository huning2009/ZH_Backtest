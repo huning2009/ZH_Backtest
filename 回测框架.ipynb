{
 "cells": [
  {
   "cell_type": "code",
   "execution_count": 1,
   "metadata": {},
   "outputs": [],
   "source": [
    "import os\n",
    "\n",
    "import numpy as np\n",
    "import pandas as pd\n",
    "# pd.set_option('max_rows', 10)\n",
    "# pd.set_option('precision', 4)\n",
    "\n",
    "import matplotlib.pyplot as plt\n",
    "# plt.style.use('classic')"
   ]
  },
  {
   "cell_type": "markdown",
   "metadata": {},
   "source": [
    "# IC 分析"
   ]
  },
  {
   "cell_type": "code",
   "execution_count": null,
   "metadata": {},
   "outputs": [],
   "source": []
  },
  {
   "cell_type": "markdown",
   "metadata": {},
   "source": [
    "# 计算下单目标 weight"
   ]
  },
  {
   "cell_type": "markdown",
   "metadata": {},
   "source": [
    "## 因子加权"
   ]
  },
  {
   "cell_type": "code",
   "execution_count": 2,
   "metadata": {},
   "outputs": [],
   "source": [
    "def scale(seri, demean=False):\n",
    "    '''\n",
    "    demean=True 表示中性化\n",
    "    保证权重的绝对值之和等于1\n",
    "    '''\n",
    "    if demean == True:\n",
    "        seri = seri-seri.mean()\n",
    "    return seri / seri.abs().sum()\n",
    "\n",
    "# 市场中性化\n",
    "def factor2weight(factor, demean=True):\n",
    "    weight = factor.groupby(level=0).apply(scale, demean=demean).rename({'factor': 'weight'}, axis=1)\n",
    "    return weight"
   ]
  },
  {
   "cell_type": "code",
   "execution_count": 3,
   "metadata": {},
   "outputs": [],
   "source": [
    "# 只投资因子值在 Top N% 的股票\n",
    "\n",
    "def cal_pos(seri):\n",
    "    return (-seri).rank()/seri.count()\n",
    "\n",
    "def cal_Top_weight(factor, TopN=0.2):\n",
    "    factor['factor_pos'] = factor['factor'].groupby(level=0).apply(cal_pos)\n",
    "    Top_mask = factor['factor_pos'] < TopN\n",
    "    Top_factor = factor.loc[Top_mask,['factor']]\n",
    "    Top_weight = factor2weight(Top_factor, demean=False)\n",
    "    return Top_weight"
   ]
  },
  {
   "cell_type": "code",
   "execution_count": 4,
   "metadata": {},
   "outputs": [],
   "source": [
    "# 纯多组合\n",
    "# 两种方式：\n",
    "\n",
    "\n",
    "# 1. 先把factor全部调为正值，再scale\n",
    "\n",
    "# 2. 只投资factor大于0的股票"
   ]
  },
  {
   "cell_type": "markdown",
   "metadata": {},
   "source": [
    "## 市值加权"
   ]
  },
  {
   "cell_type": "code",
   "execution_count": null,
   "metadata": {},
   "outputs": [],
   "source": []
  },
  {
   "cell_type": "markdown",
   "metadata": {},
   "source": [
    "## 等权重（先基于因子进行股票筛选）"
   ]
  },
  {
   "cell_type": "code",
   "execution_count": null,
   "metadata": {},
   "outputs": [],
   "source": []
  },
  {
   "cell_type": "markdown",
   "metadata": {},
   "source": [
    "# 计算 每日收益 & 每日换手率"
   ]
  },
  {
   "cell_type": "code",
   "execution_count": 5,
   "metadata": {},
   "outputs": [],
   "source": [
    "# 计算个股的次日收益\n",
    "def price2forward(price):\n",
    "    '''\n",
    "    price：Muti-index df\n",
    "    '''\n",
    "    price.columns = ['price']\n",
    "    price_table = price.pivot_table(values='price', index='trade_date', columns='ts_code').fillna(method='ffill')\n",
    "    return_table = price_table.diff()/price_table\n",
    "    forward_return_table = return_table.shift(-1)\n",
    "    return forward_return_table"
   ]
  },
  {
   "cell_type": "code",
   "execution_count": 6,
   "metadata": {},
   "outputs": [],
   "source": [
    "# 计算 daily_return \n",
    "def get_daily_return(weight, price):\n",
    "    '''\n",
    "    weight：Muti-index df\n",
    "    price：Muti-index df\n",
    "    '''\n",
    "    start = weight.index.levels[0][0]\n",
    "    forward_return_table = price2forward(price)\n",
    "    weight_table = weight.pivot_table(values='weight', index='trade_date', columns='ts_code')\n",
    "    daily_return = (forward_return_table*weight_table).sum(axis=1)\n",
    "    return daily_return.loc[start:]\n",
    "\n",
    "def get_daily_turnover(weight):\n",
    "    '''\n",
    "    weight：Muti-index df\n",
    "    price：Muti-index df\n",
    "    '''\n",
    "    start = weight.index.levels[0][0]\n",
    "    weight_table = weight.pivot_table(values='weight', index='trade_date', columns='ts_code')\n",
    "    daily_turnover = weight_table.diff().abs().sum(axis=1)\n",
    "    return daily_turnover.loc[start:]"
   ]
  },
  {
   "cell_type": "code",
   "execution_count": 11,
   "metadata": {},
   "outputs": [],
   "source": [
    "# 画图模板\n",
    "def plot_df(df,title):\n",
    "    df.plot(\n",
    "        figsize=(10,5),\n",
    "        linewidth=0.8,\n",
    "        title=title,\n",
    "        grid=True\n",
    "    )"
   ]
  },
  {
   "cell_type": "markdown",
   "metadata": {},
   "source": [
    "# 计算 Performance 指标"
   ]
  },
  {
   "cell_type": "markdown",
   "metadata": {},
   "source": [
    "- CumPNL（cumulated PNL）:累计收益\n",
    "- Sharpe\n",
    "- IR\n",
    "- Yearly Return\n",
    "- MaxDD"
   ]
  },
  {
   "cell_type": "code",
   "execution_count": 8,
   "metadata": {},
   "outputs": [],
   "source": [
    "\n",
    "def maxdrawdown(daily_return):\n",
    "    '''\n",
    "    Input: \n",
    "        daily_return是非对数收益，index为datetime\n",
    "    Output：\n",
    "        最大回撤的信息：值、起始日、结束日\n",
    "    '''\n",
    "    cap = (daily_return+1).cumprod() # 策略单位净值时间序列\n",
    "    i = (1 - cap/np.maximum.accumulate(cap)).values.argmax() # end of the period    \n",
    "    j = (cap[:i]).values.argmax() # start of period\n",
    "    maxDD = (1-cap[i]/cap[j])    \n",
    "    # print('maxDD = {:.2f}%  From {} to {}'.format(maxDD*100, cap.index[j].date(), cap.index[i].date()))\n",
    "    \n",
    "    return maxDD, cap.index[j], cap.index[i]\n",
    "\n",
    "def perf_summary(daily_return):\n",
    "    summary = dict()\n",
    "    summary['CumReturn'] = (daily_return+1).product()-1\n",
    "    summary['Sharpe'] = 244**0.5*daily_return.mean()/daily_return.std()\n",
    "    summary['Yearly_Return'] = (daily_return.mean()+1)**244-1\n",
    "    summary['MaxDD'] = maxdrawdown(daily_return)[0]\n",
    "\n",
    "    return pd.DataFrame(summary, index=['Summary'])\n",
    "\n",
    "def perf_summary_yearly(daily_return):\n",
    "    yearly_summary = daily_return.resample('Y', kind='period').apply(perf_summary)\n",
    "    yearly_summary = pd.concat(list(yearly_summary), axis=0)\n",
    "    yearly_summary.index = daily_return.index.year.unique()\n",
    "    yearly_summary.index.name = 'year'\n",
    "    \n",
    "    return yearly_summary"
   ]
  },
  {
   "cell_type": "markdown",
   "metadata": {},
   "source": [
    "# API"
   ]
  },
  {
   "cell_type": "code",
   "execution_count": 9,
   "metadata": {},
   "outputs": [],
   "source": [
    "# 市场中性回测接口\n",
    "\n",
    "def market_neutral_backtest(factor, price):\n",
    "    '''\n",
    "    INPUT:\n",
    "        weight：Muti-index df\n",
    "        price：Muti-index df\n",
    "        \n",
    "    OUTPUT:\n",
    "        performance summary: df\n",
    "        累计收益曲线 + 最大回撤区间: plot\n",
    "        \n",
    "    '''\n",
    "    \n",
    "    # 计算下单目标weight\n",
    "    neutral_weight = factor2weight(factor, demean=True) # 中性化多空组合    \n",
    "    \n",
    "    # 计算每日收益和换手率\n",
    "    daily_return = get_daily_return(neutral_weight, price)\n",
    "    daily_turnover = get_daily_turnover(neutral_weight)\n",
    "    \n",
    "    # summary table\n",
    "    total_summary = perf_summary(daily_return)\n",
    "    total_summary['Avg_daily_turnover'] = daily_turnover.mean()\n",
    "    yearly_summary = perf_summary_yearly(daily_return)\n",
    "    yearly_summary['Avg_daily_turnover'] = daily_turnover.resample('Y', kind='period').mean().values\n",
    "    summary = pd.concat([yearly_summary, total_summary])\n",
    "    print(summary)\n",
    "    summary.to_clipboard()\n",
    "    \n",
    "    # 画图：策略累计收益曲线 + 最大回撤区间\n",
    "    plot_df((daily_return+1).cumprod()-1, 'Cummulative Return')\n",
    "    maxDD, maxDD_start, maxDD_end = maxdrawdown(daily_return)\n",
    "    plt.axvline(x=maxDD_start, color=\"red\", linestyle=\"--\")\n",
    "    plt.axvline(x=maxDD_end, color=\"red\", linestyle=\"--\")"
   ]
  },
  {
   "cell_type": "markdown",
   "metadata": {},
   "source": [
    "# 调试"
   ]
  },
  {
   "cell_type": "code",
   "execution_count": 12,
   "metadata": {},
   "outputs": [
    {
     "name": "stdout",
     "output_type": "stream",
     "text": [
      "         CumReturn    Sharpe  Yearly_Return     MaxDD  Avg_daily_turnover\n",
      "2014      0.135306  1.507525       0.169299  0.104999            0.256217\n",
      "2015      1.142319  5.276751       1.165140  0.043243            0.273895\n",
      "2016      0.353172  3.555257       0.358165  0.042207            0.262316\n",
      "2017     -0.028827 -0.268053      -0.024635  0.092872            0.247419\n",
      "2018      0.001585  0.061909       0.005478  0.072278            0.250854\n",
      "Summary   2.201355  2.292034       0.279351  0.104999            0.258210\n"
     ]
    },
    {
     "data": {
      "image/png": "[encoded data removed]",
      "text/plain": [
       "<Figure size 720x360 with 1 Axes>"
      ]
     },
     "metadata": {
      "needs_background": "light"
     },
     "output_type": "display_data"
    }
   ],
   "source": [
    "if __name__=='__main__':\n",
    "    \n",
    "    # 获取数据：factor & price\n",
    "    os.chdir(r'C:\\Users\\瀚\\Desktop\\回测框架')\n",
    "    factor = pd.read_csv('factor.csv', index_col=[0,1], parse_dates=['trade_date'])\n",
    "    bar = pd.read_csv('bar.csv', index_col=[0,1], parse_dates=['trade_date'])\n",
    "    price = bar[['close']] # 使用close计算收益\n",
    "    \n",
    "    market_neutral_backtest(factor, price)"
   ]
  },
  {
   "cell_type": "code",
   "execution_count": null,
   "metadata": {},
   "outputs": [],
   "source": []
  }
 ],
 "metadata": {
  "kernelspec": {
   "display_name": "Python 3",
   "language": "python",
   "name": "python3"
  },
  "language_info": {
   "codemirror_mode": {
    "name": "ipython",
    "version": 3
   },
   "file_extension": ".py",
   "mimetype": "text/x-python",
   "name": "python",
   "nbconvert_exporter": "python",
   "pygments_lexer": "ipython3",
   "version": "3.7.0"
  },
  "toc": {
   "base_numbering": 1,
   "nav_menu": {},
   "number_sections": true,
   "sideBar": true,
   "skip_h1_title": false,
   "title_cell": "Table of Contents",
   "title_sidebar": "Contents",
   "toc_cell": false,
   "toc_position": {},
   "toc_section_display": true,
   "toc_window_display": true
  }
 },
 "nbformat": 4,
 "nbformat_minor": 2
}
